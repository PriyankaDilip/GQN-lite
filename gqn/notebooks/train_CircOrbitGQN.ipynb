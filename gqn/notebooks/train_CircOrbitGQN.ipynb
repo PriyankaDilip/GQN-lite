{
  "nbformat": 4,
  "nbformat_minor": 0,
  "metadata": {
    "colab": {
      "name": "train_CircOrbitGQN.ipynb",
      "provenance": [],
      "collapsed_sections": []
    },
    "kernelspec": {
      "name": "python3",
      "display_name": "Python 3"
    }
  },
  "cells": [
    {
      "cell_type": "code",
      "metadata": {
        "id": "JdIqnymjwSNg",
        "outputId": "df6f4da8-f755-4488-f90c-c81737877c31",
        "colab": {
          "base_uri": "https://localhost:8080/",
          "height": 34
        }
      },
      "source": [
        "from google.colab import drive\n",
        "drive.mount('/content/drive')"
      ],
      "execution_count": null,
      "outputs": [
        {
          "output_type": "stream",
          "text": [
            "Mounted at /content/drive\n"
          ],
          "name": "stdout"
        }
      ]
    },
    {
      "cell_type": "code",
      "metadata": {
        "id": "FRbAg-KYxOrX",
        "outputId": "4f1ad384-401a-4e18-b3c0-26fa20da17f3",
        "colab": {
          "base_uri": "https://localhost:8080/",
          "height": 306
        }
      },
      "source": [
        "! pip install tensorboardX\n",
        "! pip install pytorch-ignite"
      ],
      "execution_count": null,
      "outputs": [
        {
          "output_type": "stream",
          "text": [
            "Collecting tensorboardX\n",
            "\u001b[?25l  Downloading https://files.pythonhosted.org/packages/af/0c/4f41bcd45db376e6fe5c619c01100e9b7531c55791b7244815bac6eac32c/tensorboardX-2.1-py2.py3-none-any.whl (308kB)\n",
            "\r\u001b[K     |█                               | 10kB 4.6MB/s eta 0:00:01\r\u001b[K     |██▏                             | 20kB 826kB/s eta 0:00:01\r\u001b[K     |███▏                            | 30kB 1.1MB/s eta 0:00:01\r\u001b[K     |████▎                           | 40kB 1.3MB/s eta 0:00:01\r\u001b[K     |█████▎                          | 51kB 968kB/s eta 0:00:01\r\u001b[K     |██████▍                         | 61kB 1.1MB/s eta 0:00:01\r\u001b[K     |███████▍                        | 71kB 1.2MB/s eta 0:00:01\r\u001b[K     |████████▌                       | 81kB 1.3MB/s eta 0:00:01\r\u001b[K     |█████████▌                      | 92kB 1.4MB/s eta 0:00:01\r\u001b[K     |██████████▋                     | 102kB 1.3MB/s eta 0:00:01\r\u001b[K     |███████████▊                    | 112kB 1.3MB/s eta 0:00:01\r\u001b[K     |████████████▊                   | 122kB 1.3MB/s eta 0:00:01\r\u001b[K     |█████████████▉                  | 133kB 1.3MB/s eta 0:00:01\r\u001b[K     |██████████████▉                 | 143kB 1.3MB/s eta 0:00:01\r\u001b[K     |████████████████                | 153kB 1.3MB/s eta 0:00:01\r\u001b[K     |█████████████████               | 163kB 1.3MB/s eta 0:00:01\r\u001b[K     |██████████████████              | 174kB 1.3MB/s eta 0:00:01\r\u001b[K     |███████████████████             | 184kB 1.3MB/s eta 0:00:01\r\u001b[K     |████████████████████▏           | 194kB 1.3MB/s eta 0:00:01\r\u001b[K     |█████████████████████▎          | 204kB 1.3MB/s eta 0:00:01\r\u001b[K     |██████████████████████▎         | 215kB 1.3MB/s eta 0:00:01\r\u001b[K     |███████████████████████▍        | 225kB 1.3MB/s eta 0:00:01\r\u001b[K     |████████████████████████▍       | 235kB 1.3MB/s eta 0:00:01\r\u001b[K     |█████████████████████████▌      | 245kB 1.3MB/s eta 0:00:01\r\u001b[K     |██████████████████████████▌     | 256kB 1.3MB/s eta 0:00:01\r\u001b[K     |███████████████████████████▋    | 266kB 1.3MB/s eta 0:00:01\r\u001b[K     |████████████████████████████▋   | 276kB 1.3MB/s eta 0:00:01\r\u001b[K     |█████████████████████████████▊  | 286kB 1.3MB/s eta 0:00:01\r\u001b[K     |██████████████████████████████▊ | 296kB 1.3MB/s eta 0:00:01\r\u001b[K     |███████████████████████████████▉| 307kB 1.3MB/s eta 0:00:01\r\u001b[K     |████████████████████████████████| 317kB 1.3MB/s \n",
            "\u001b[?25hRequirement already satisfied: six in /usr/local/lib/python3.6/dist-packages (from tensorboardX) (1.15.0)\n",
            "Requirement already satisfied: protobuf>=3.8.0 in /usr/local/lib/python3.6/dist-packages (from tensorboardX) (3.12.4)\n",
            "Requirement already satisfied: numpy in /usr/local/lib/python3.6/dist-packages (from tensorboardX) (1.18.5)\n",
            "Requirement already satisfied: setuptools in /usr/local/lib/python3.6/dist-packages (from protobuf>=3.8.0->tensorboardX) (50.3.0)\n",
            "Installing collected packages: tensorboardX\n",
            "Successfully installed tensorboardX-2.1\n",
            "Collecting pytorch-ignite\n",
            "\u001b[?25l  Downloading https://files.pythonhosted.org/packages/14/98/0a5b83d82ff245d3de5f09808fb80ff0ed03f6b10933979e6018b1dd0eaa/pytorch_ignite-0.4.2-py2.py3-none-any.whl (175kB)\n",
            "\u001b[K     |████████████████████████████████| 184kB 1.4MB/s \n",
            "\u001b[?25hRequirement already satisfied: torch<2,>=1.3 in /usr/local/lib/python3.6/dist-packages (from pytorch-ignite) (1.6.0+cu101)\n",
            "Requirement already satisfied: future in /usr/local/lib/python3.6/dist-packages (from torch<2,>=1.3->pytorch-ignite) (0.16.0)\n",
            "Requirement already satisfied: numpy in /usr/local/lib/python3.6/dist-packages (from torch<2,>=1.3->pytorch-ignite) (1.18.5)\n",
            "Installing collected packages: pytorch-ignite\n",
            "Successfully installed pytorch-ignite-0.4.2\n"
          ],
          "name": "stdout"
        }
      ]
    },
    {
      "cell_type": "code",
      "metadata": {
        "id": "1k2wmb4kxEj8",
        "outputId": "c02eba63-fa54-44c2-b8b6-a290119cd23f",
        "colab": {
          "base_uri": "https://localhost:8080/",
          "height": 34
        }
      },
      "source": [
        "% cd /content/drive/My Drive/SSDS Research/GQN_Files/GQN-lite-master/gqn"
      ],
      "execution_count": null,
      "outputs": [
        {
          "output_type": "stream",
          "text": [
            "/content/drive/My Drive/SSDS Research/GQN_Files/GQN-lite-master/gqn\n"
          ],
          "name": "stdout"
        }
      ]
    },
    {
      "cell_type": "code",
      "metadata": {
        "id": "3zFgaGkZKSz-",
        "outputId": "a8ae5e72-76fc-494b-d94f-440af11d647c",
        "colab": {
          "base_uri": "https://localhost:8080/",
          "height": 292
        }
      },
      "source": [
        "! python ./CircularOrbit_runGQN.py --resume_training=\"False\" --n_epochs=1 --batch_size=1 --data_parallel=True --workers=4 --pretrained_path=./pretrained/Circ_Orbit --fraction=1 --data_dir=../../../circular_orbit_dataset_2"
      ],
      "execution_count": null,
      "outputs": [
        {
          "output_type": "stream",
          "text": [
            "device:  cpu\n",
            "False\n",
            "Creating GQN Model\n",
            "Creating train dataset\n",
            "Creating test dataset\n",
            "train set: 175\n",
            "test set: 175\n",
            "/usr/local/lib/python3.6/dist-packages/ignite/handlers/checkpoint.py:708: UserWarning: Argument save_interval is deprecated and should be None. This argument will be removed in 0.5.0.Please, use events filtering instead, e.g. Events.ITERATION_STARTED(every=1000)\n",
            "  warnings.warn(msg)\n",
            "Before\n",
            "{'init': 2.0, 'delta': 0.7, 'steps': 80000, 's': 0}\n",
            "{'init': 4.9999999999999996e-06, 'delta': 4.9999999999999996e-06, 'steps': 160000.0, 's': 0}\n",
            "After\n",
            "{'init': 2.0, 'delta': 0.7, 'steps': 80000, 's': 175}\n",
            "{'init': 4.9999999999999996e-06, 'delta': 4.9999999999999996e-06, 'steps': 160000.0, 's': 175}\n"
          ],
          "name": "stdout"
        }
      ]
    },
    {
      "cell_type": "code",
      "metadata": {
        "id": "c4U356hbfYVq",
        "outputId": "92eac40f-87c2-47ca-ee32-e0c2483e463a",
        "colab": {
          "base_uri": "https://localhost:8080/",
          "height": 326
        }
      },
      "source": [
        "! python ./CircularOrbit_runGQN.py --resume_training=\"True\" --n_epochs=5 --batch_size=1 --data_parallel=True --workers=4 --pretrained_path=./pretrained/Circ_Orbit --fraction=1 --data_dir=../../../circular_orbit_dataset_2"
      ],
      "execution_count": null,
      "outputs": [
        {
          "output_type": "stream",
          "text": [
            "device:  cpu\n",
            "True\n",
            "Creating GQN Model\n",
            "Creating train dataset\n",
            "Creating test dataset\n",
            "train set: 175\n",
            "test set: 175\n",
            "/usr/local/lib/python3.6/dist-packages/ignite/handlers/checkpoint.py:708: UserWarning: Argument save_interval is deprecated and should be None. This argument will be removed in 0.5.0.Please, use events filtering instead, e.g. Events.ITERATION_STARTED(every=1000)\n",
            "  warnings.warn(msg)\n",
            "./pretrained/Circ_Orbit/checkpoint_checkpoint_175.pt\n",
            "Resuming Training at Epoch  1 ... Iteration  175\n",
            "Before\n",
            "{'init': 2.0, 'delta': 0.7, 'steps': 80000, 's': 175}\n",
            "{'init': 4.9999999999999996e-06, 'delta': 4.9999999999999996e-06, 'steps': 160000.0, 's': 175}\n",
            "After\n",
            "{'init': 2.0, 'delta': 0.7, 'steps': 80000, 's': 875}\n",
            "{'init': 4.9999999999999996e-06, 'delta': 4.9999999999999996e-06, 'steps': 160000.0, 's': 875}\n"
          ],
          "name": "stdout"
        }
      ]
    },
    {
      "cell_type": "code",
      "metadata": {
        "id": "uaBzxEqUzPfs",
        "outputId": "308fd149-8c53-4ae5-92d0-763a8b427e3f",
        "colab": {
          "base_uri": "https://localhost:8080/",
          "height": 326
        }
      },
      "source": [
        "! python ./CircularOrbit_runGQN.py --resume_training=\"True\" --n_epochs=15 --batch_size=1 --data_parallel=True --workers=4 --pretrained_path=./pretrained/Circ_Orbit --fraction=1 --data_dir=../../../circular_orbit_dataset_2"
      ],
      "execution_count": null,
      "outputs": [
        {
          "output_type": "stream",
          "text": [
            "device:  cpu\n",
            "True\n",
            "Creating GQN Model\n",
            "Creating train dataset\n",
            "Creating test dataset\n",
            "train set: 175\n",
            "test set: 175\n",
            "/usr/local/lib/python3.6/dist-packages/ignite/handlers/checkpoint.py:708: UserWarning: Argument save_interval is deprecated and should be None. This argument will be removed in 0.5.0.Please, use events filtering instead, e.g. Events.ITERATION_STARTED(every=1000)\n",
            "  warnings.warn(msg)\n",
            "./pretrained/Circ_Orbit/checkpoint_checkpoint_875.pt\n",
            "Resuming Training at Epoch  5 ... Iteration  875\n",
            "Before\n",
            "{'init': 2.0, 'delta': 0.7, 'steps': 80000, 's': 875}\n",
            "{'init': 4.9999999999999996e-06, 'delta': 4.9999999999999996e-06, 'steps': 160000.0, 's': 875}\n",
            "After\n",
            "{'init': 2.0, 'delta': 0.7, 'steps': 80000, 's': 2625}\n",
            "{'init': 4.9999999999999996e-06, 'delta': 4.9999999999999996e-06, 'steps': 160000.0, 's': 2625}\n"
          ],
          "name": "stdout"
        }
      ]
    },
    {
      "cell_type": "code",
      "metadata": {
        "id": "W2SKjxHN3BtZ",
        "outputId": "2f41608f-16f2-41b8-8cfb-c6e6f19ebbba",
        "colab": {
          "base_uri": "https://localhost:8080/",
          "height": 542
        }
      },
      "source": [
        "! python ./CircularOrbit_runGQN.py --resume_training=\"True\" --n_epochs=100 --batch_size=1 --data_parallel=True --workers=4 --pretrained_path=./pretrained/Circ_Orbit --fraction=1 --data_dir=../../../circular_orbit_dataset_2"
      ],
      "execution_count": null,
      "outputs": [
        {
          "output_type": "stream",
          "text": [
            "device:  cpu\n",
            "True\n",
            "Creating GQN Model\n",
            "Creating train dataset\n",
            "Creating test dataset\n",
            "train set: 175\n",
            "test set: 175\n",
            "/usr/local/lib/python3.6/dist-packages/ignite/handlers/checkpoint.py:708: UserWarning: Argument save_interval is deprecated and should be None. This argument will be removed in 0.5.0.Please, use events filtering instead, e.g. Events.ITERATION_STARTED(every=1000)\n",
            "  warnings.warn(msg)\n",
            "./pretrained/Circ_Orbit/checkpoint_checkpoint_8575.pt\n",
            "Resuming Training at Epoch  49 ... Iteration  8575\n",
            "Before\n",
            "{'init': 2.0, 'delta': 0.7, 'steps': 80000, 's': 8575}\n",
            "{'init': 4.9999999999999996e-06, 'delta': 4.9999999999999996e-06, 'steps': 160000.0, 's': 8575}\n",
            "Epoch [51/100]:  22% 39/175 [04:39<15:58,  7.05s/it, elbo=-1.89e+4, kl=0.679, mu=5e-6, sigma=1.86]device:  cpu\n",
            "True\n",
            "Creating GQN Model\n",
            "Creating train dataset\n",
            "Creating test dataset\n",
            "train set: 175\n",
            "test set: 175\n",
            "/usr/local/lib/python3.6/dist-packages/ignite/handlers/checkpoint.py:708: UserWarning: Argument save_interval is deprecated and should be None. This argument will be removed in 0.5.0.Please, use events filtering instead, e.g. Events.ITERATION_STARTED(every=1000)\n",
            "  warnings.warn(msg)\n",
            "./pretrained/Circ_Orbit/checkpoint_checkpoint_8575.pt\n",
            "Resuming Training at Epoch  49 ... Iteration  8575\n",
            "Before\n",
            "{'init': 2.0, 'delta': 0.7, 'steps': 80000, 's': 8575}\n",
            "{'init': 4.9999999999999996e-06, 'delta': 4.9999999999999996e-06, 'steps': 160000.0, 's': 8575}\n",
            "Epoch [96/100]:  59% 103/175 [08:40<06:04,  5.06s/it, elbo=-1.8e+4, kl=0.0216, mu=5e-6, sigma=1.73]"
          ],
          "name": "stdout"
        }
      ]
    },
    {
      "cell_type": "code",
      "metadata": {
        "id": "whoVhUDrJ7W2",
        "outputId": "85d3fb27-d04b-48d2-b017-b1e20e9e7381",
        "colab": {
          "base_uri": "https://localhost:8080/",
          "height": 377
        }
      },
      "source": [
        "! python ./CircularOrbit_runGQN.py --resume_training=\"True\" --n_epochs=200 --batch_size=1 --data_parallel=True --workers=4 --pretrained_path=./pretrained/Circ_Orbit --fraction=1 --data_dir=../../../circular_orbit_dataset_2"
      ],
      "execution_count": null,
      "outputs": [
        {
          "output_type": "stream",
          "text": [
            "device:  cpu\n",
            "True\n",
            "Creating GQN Model\n",
            "Creating train dataset\n",
            "Creating test dataset\n",
            "train set: 175\n",
            "test set: 175\n",
            "/usr/local/lib/python3.6/dist-packages/ignite/handlers/checkpoint.py:708: UserWarning: Argument save_interval is deprecated and should be None. This argument will be removed in 0.5.0.Please, use events filtering instead, e.g. Events.ITERATION_STARTED(every=1000)\n",
            "  warnings.warn(msg)\n",
            "./pretrained/Circ_Orbit/checkpoint_checkpoint_24850.pt\n",
            "Resuming Training at Epoch  142 ... Iteration  24850\n",
            "Before\n",
            "{'init': 2.0, 'delta': 0.7, 'steps': 80000, 's': 24850}\n",
            "{'init': 4.9999999999999996e-06, 'delta': 4.9999999999999996e-06, 'steps': 160000.0, 's': 24850}\n",
            "Epoch [145/200]:   2% 3/175 [00:16<24:20,  8.49s/it, elbo=-1.7e+4, kl=0.366, mu=5e-6, sigma=1.59]Engine run is terminating due to exception: .\n",
            "./CircularOrbit_runGQN.py:231: UserWarning: KeyboardInterrupt caught. Exiting gracefully.\n",
            "  warnings.warn('KeyboardInterrupt caught. Exiting gracefully.')\n",
            "After\n",
            "{'init': 2.0, 'delta': 0.7, 'steps': 80000, 's': 25204}\n",
            "{'init': 4.9999999999999996e-06, 'delta': 4.9999999999999996e-06, 'steps': 160000.0, 's': 25203}\n"
          ],
          "name": "stdout"
        }
      ]
    },
    {
      "cell_type": "markdown",
      "metadata": {
        "id": "5IbCjfcKa14B"
      },
      "source": [
        "run-gqn.py: x shape torch.Size([1, 8, 15, 3, 64, 64])  -- v shape torch.Size([1, 8, 15, 7])"
      ]
    }
  ]
}
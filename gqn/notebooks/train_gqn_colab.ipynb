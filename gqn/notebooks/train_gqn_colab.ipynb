{
  "nbformat": 4,
  "nbformat_minor": 0,
  "metadata": {
    "colab": {
      "name": "train-gqn-colab.ipynb",
      "provenance": [],
      "collapsed_sections": []
    },
    "kernelspec": {
      "name": "python3",
      "display_name": "Python 3"
    },
    "accelerator": "GPU"
  },
  "cells": [
    {
      "cell_type": "code",
      "metadata": {
        "id": "jIiDUhjQyc2b",
        "outputId": "847c3887-1c29-4d0a-e40e-a640b270e196",
        "colab": {
          "base_uri": "https://localhost:8080/",
          "height": 34
        }
      },
      "source": [
        "from google.colab import drive\n",
        "drive.mount('/content/drive')"
      ],
      "execution_count": null,
      "outputs": [
        {
          "output_type": "stream",
          "text": [
            "Drive already mounted at /content/drive; to attempt to forcibly remount, call drive.mount(\"/content/drive\", force_remount=True).\n"
          ],
          "name": "stdout"
        }
      ]
    },
    {
      "cell_type": "code",
      "metadata": {
        "id": "TO1phOQ3yin_",
        "outputId": "5ed57a0e-bb7b-4bd7-97f5-432874dbc836",
        "colab": {
          "base_uri": "https://localhost:8080/",
          "height": 185
        }
      },
      "source": [
        "! pip install tensorboardX\n",
        "! pip install pytorch-ignite\n",
        "% cd /content/drive/My Drive/SSDS Research/GQN_Files/GQN-lite-master/gqn"
      ],
      "execution_count": null,
      "outputs": [
        {
          "output_type": "stream",
          "text": [
            "Requirement already satisfied: tensorboardX in /usr/local/lib/python3.6/dist-packages (2.1)\n",
            "Requirement already satisfied: six in /usr/local/lib/python3.6/dist-packages (from tensorboardX) (1.15.0)\n",
            "Requirement already satisfied: protobuf>=3.8.0 in /usr/local/lib/python3.6/dist-packages (from tensorboardX) (3.12.4)\n",
            "Requirement already satisfied: numpy in /usr/local/lib/python3.6/dist-packages (from tensorboardX) (1.18.5)\n",
            "Requirement already satisfied: setuptools in /usr/local/lib/python3.6/dist-packages (from protobuf>=3.8.0->tensorboardX) (50.3.0)\n",
            "Requirement already satisfied: pytorch-ignite in /usr/local/lib/python3.6/dist-packages (0.4.2)\n",
            "Requirement already satisfied: torch<2,>=1.3 in /usr/local/lib/python3.6/dist-packages (from pytorch-ignite) (1.6.0+cu101)\n",
            "Requirement already satisfied: numpy in /usr/local/lib/python3.6/dist-packages (from torch<2,>=1.3->pytorch-ignite) (1.18.5)\n",
            "Requirement already satisfied: future in /usr/local/lib/python3.6/dist-packages (from torch<2,>=1.3->pytorch-ignite) (0.16.0)\n",
            "/content/drive/My Drive/SSDS Research/GQN_Files/GQN-lite-master/gqn\n"
          ],
          "name": "stdout"
        }
      ]
    },
    {
      "cell_type": "code",
      "metadata": {
        "id": "wrMcSaqeM7mW",
        "outputId": "7a64a481-2bc2-4d1b-8c61-a1aef4b8e4f9",
        "colab": {
          "base_uri": "https://localhost:8080/",
          "height": 373
        }
      },
      "source": [
        "! python ./run-gqn.py --resume_training=\"True\" --n_epochs=50 --batch_size=10 --data_parallel=True --workers=4 --pretrained_path=./pretrained/LT --fraction=0.05 --data_dir=../../../shepard_metzler_5_parts"
      ],
      "execution_count": null,
      "outputs": [
        {
          "output_type": "stream",
          "text": [
            "device:  cuda\n",
            "True\n",
            "Creating GQN Model\n",
            "Creating train dataset\n",
            "Creating test dataset\n",
            "train set: 3390\n",
            "test set: 835\n",
            "/usr/local/lib/python3.6/dist-packages/ignite/handlers/checkpoint.py:708: UserWarning: Argument save_interval is deprecated and should be None. This argument will be removed in 0.5.0.Please, use events filtering instead, e.g. Events.ITERATION_STARTED(every=1000)\n",
            "  warnings.warn(msg)\n",
            "./pretrained/LT/checkpoint_checkpoint_16950.pt\n",
            "Resuming Training at Epoch  50 ... Iteration  16950\n",
            "Before\n",
            "{'init': 2.0, 'delta': 0.7, 'steps': 80000, 's': 16950}\n",
            "{'init': 4.9999999999999996e-06, 'delta': 4.9999999999999996e-06, 'steps': 160000.0, 's': 16950}\n",
            "Epoch [2/50]:  34% 115/339 [04:34<08:50,  2.37s/it, elbo=-1.8e+4, kl=0.65, mu=5e-6, sigma=1.72]Engine run is terminating due to exception: .\n",
            "./run-gqn.py:216: UserWarning: KeyboardInterrupt caught. Exiting gracefully.\n",
            "  warnings.warn('KeyboardInterrupt caught. Exiting gracefully.')\n",
            "After\n",
            "{'init': 2.0, 'delta': 0.7, 'steps': 80000, 's': 17405}\n",
            "{'init': 4.9999999999999996e-06, 'delta': 4.9999999999999996e-06, 'steps': 160000.0, 's': 17405}\n"
          ],
          "name": "stdout"
        }
      ]
    },
    {
      "cell_type": "code",
      "metadata": {
        "id": "HltCLuBPBnL2",
        "outputId": "95a91b6f-c6f6-4e50-b680-81aa61f76fbf",
        "colab": {
          "base_uri": "https://localhost:8080/",
          "height": 322
        }
      },
      "source": [
        "! python ./run-gqn.py --resume_training=\"True\" --n_epochs=60 --batch_size=10 --data_parallel=True --workers=4 --pretrained_path=./pretrained/LT --fraction=0.05 --data_dir=../../../shepard_metzler_5_parts"
      ],
      "execution_count": null,
      "outputs": [
        {
          "output_type": "stream",
          "text": [
            "device:  cuda\n",
            "True\n",
            "Creating GQN Model\n",
            "Creating train dataset\n",
            "Creating test dataset\n",
            "train set: 3390\n",
            "test set: 835\n",
            "/usr/local/lib/python3.6/dist-packages/ignite/handlers/checkpoint.py:708: UserWarning: Argument save_interval is deprecated and should be None. This argument will be removed in 0.5.0.Please, use events filtering instead, e.g. Events.ITERATION_STARTED(every=1000)\n",
            "  warnings.warn(msg)\n",
            "./pretrained/LT/checkpoint_checkpoint_15933.pt\n",
            "Resuming Training at Epoch  47 ... Iteration  15933\n",
            "Before\n",
            "{'init': 2.0, 'delta': 0.7, 'steps': 80000, 's': 15933}\n",
            "{'init': 4.9999999999999996e-06, 'delta': 4.9999999999999996e-06, 'steps': 160000.0, 's': 15933}\n",
            "After\n",
            "{'init': 2.0, 'delta': 0.7, 'steps': 80000, 's': 20340}\n",
            "{'init': 4.9999999999999996e-06, 'delta': 4.9999999999999996e-06, 'steps': 160000.0, 's': 20340}\n"
          ],
          "name": "stdout"
        }
      ]
    },
    {
      "cell_type": "code",
      "metadata": {
        "id": "PsE5fPFsMMBU"
      },
      "source": [
        "! python ./run-gqn.py --resume_training=\"True\" --n_epochs=150 --batch_size=10 --data_parallel=True --workers=4 --pretrained_path=./pretrained/LT --fraction=0.05 --data_dir=../../../shepard_metzler_5_parts"
      ],
      "execution_count": null,
      "outputs": []
    },
    {
      "cell_type": "code",
      "metadata": {
        "id": "AVx32w-LMMJM"
      },
      "source": [
        "! python ./run-gqn.py --resume_training=\"True\" --n_epochs=150 --batch_size=10 --data_parallel=True --workers=4 --pretrained_path=./pretrained/LT --fraction=0.05 --data_dir=../../../shepard_metzler_5_parts"
      ],
      "execution_count": null,
      "outputs": []
    },
    {
      "cell_type": "code",
      "metadata": {
        "id": "e2q1AP9fMMVE"
      },
      "source": [
        "! python ./run-gqn.py --resume_training=\"True\" --n_epochs=200 --batch_size=10 --data_parallel=True --workers=4 --pretrained_path=./pretrained/LT --fraction=0.05 --data_dir=../../../shepard_metzler_5_parts"
      ],
      "execution_count": null,
      "outputs": []
    },
    {
      "cell_type": "code",
      "metadata": {
        "id": "oXTZEtYKYQ6_"
      },
      "source": [
        "! python ./run-gqn.py --resume_training=\"True\" --n_epochs=250 --batch_size=10 --data_parallel=True --workers=4 --pretrained_path=./pretrained/LT --fraction=0.05 --data_dir=../../../shepard_metzler_5_parts"
      ],
      "execution_count": null,
      "outputs": []
    }
  ]
}